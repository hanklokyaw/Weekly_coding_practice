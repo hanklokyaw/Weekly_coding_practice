{
 "cells": [
  {
   "cell_type": "code",
   "execution_count": 5,
   "metadata": {},
   "outputs": [
    {
     "name": "stdout",
     "output_type": "stream",
     "text": [
      "Collecting unstructured\n",
      "  Downloading unstructured-0.10.19-py3-none-any.whl (1.6 MB)\n",
      "     ---------------------------------------- 1.6/1.6 MB 670.6 kB/s eta 0:00:00\n",
      "Collecting chardet (from unstructured)\n",
      "  Downloading chardet-5.2.0-py3-none-any.whl (199 kB)\n",
      "     -------------------------------------- 199.4/199.4 kB 1.1 MB/s eta 0:00:00\n",
      "Collecting filetype (from unstructured)\n",
      "  Downloading filetype-1.2.0-py2.py3-none-any.whl (19 kB)\n",
      "Collecting python-magic (from unstructured)\n",
      "  Downloading python_magic-0.4.27-py2.py3-none-any.whl (13 kB)\n",
      "Requirement already satisfied: lxml in c:\\users\\hboyz\\appdata\\local\\programs\\python\\python39\\lib\\site-packages (from unstructured) (4.9.2)\n",
      "Requirement already satisfied: nltk in c:\\users\\hboyz\\appdata\\local\\programs\\python\\python39\\lib\\site-packages (from unstructured) (3.8.1)\n",
      "Requirement already satisfied: tabulate in c:\\users\\hboyz\\appdata\\local\\programs\\python\\python39\\lib\\site-packages (from unstructured) (0.9.0)\n",
      "Requirement already satisfied: requests in c:\\users\\hboyz\\appdata\\local\\programs\\python\\python39\\lib\\site-packages (from unstructured) (2.28.2)\n",
      "Requirement already satisfied: beautifulsoup4 in c:\\users\\hboyz\\appdata\\local\\programs\\python\\python39\\lib\\site-packages (from unstructured) (4.11.2)\n",
      "Requirement already satisfied: emoji in c:\\users\\hboyz\\appdata\\local\\programs\\python\\python39\\lib\\site-packages (from unstructured) (2.2.0)\n",
      "Requirement already satisfied: dataclasses-json in c:\\users\\hboyz\\appdata\\local\\programs\\python\\python39\\lib\\site-packages (from unstructured) (0.6.1)\n",
      "Collecting python-iso639 (from unstructured)\n",
      "  Downloading python_iso639-2023.6.15-py3-none-any.whl (275 kB)\n",
      "     ------------------------------------ 275.1/275.1 kB 807.4 kB/s eta 0:00:00\n",
      "Collecting langdetect (from unstructured)\n",
      "  Downloading langdetect-1.0.9.tar.gz (981 kB)\n",
      "     ------------------------------------ 981.5/981.5 kB 668.4 kB/s eta 0:00:00\n",
      "  Preparing metadata (setup.py): started\n",
      "  Preparing metadata (setup.py): finished with status 'done'\n",
      "Requirement already satisfied: numpy in c:\\users\\hboyz\\appdata\\local\\programs\\python\\python39\\lib\\site-packages (from unstructured) (1.23.5)\n",
      "Requirement already satisfied: soupsieve>1.2 in c:\\users\\hboyz\\appdata\\local\\programs\\python\\python39\\lib\\site-packages (from beautifulsoup4->unstructured) (2.4)\n",
      "Requirement already satisfied: marshmallow<4.0.0,>=3.18.0 in c:\\users\\hboyz\\appdata\\local\\programs\\python\\python39\\lib\\site-packages (from dataclasses-json->unstructured) (3.20.1)\n",
      "Requirement already satisfied: typing-inspect<1,>=0.4.0 in c:\\users\\hboyz\\appdata\\local\\programs\\python\\python39\\lib\\site-packages (from dataclasses-json->unstructured) (0.9.0)\n",
      "Requirement already satisfied: six in c:\\users\\hboyz\\appdata\\roaming\\python\\python39\\site-packages (from langdetect->unstructured) (1.16.0)\n",
      "Requirement already satisfied: click in c:\\users\\hboyz\\appdata\\local\\programs\\python\\python39\\lib\\site-packages (from nltk->unstructured) (8.1.3)\n",
      "Requirement already satisfied: joblib in c:\\users\\hboyz\\appdata\\local\\programs\\python\\python39\\lib\\site-packages (from nltk->unstructured) (1.2.0)\n",
      "Requirement already satisfied: regex>=2021.8.3 in c:\\users\\hboyz\\appdata\\local\\programs\\python\\python39\\lib\\site-packages (from nltk->unstructured) (2022.10.31)\n",
      "Requirement already satisfied: tqdm in c:\\users\\hboyz\\appdata\\local\\programs\\python\\python39\\lib\\site-packages (from nltk->unstructured) (4.64.1)\n",
      "Requirement already satisfied: charset-normalizer<4,>=2 in c:\\users\\hboyz\\appdata\\local\\programs\\python\\python39\\lib\\site-packages (from requests->unstructured) (3.0.1)\n",
      "Requirement already satisfied: idna<4,>=2.5 in c:\\users\\hboyz\\appdata\\local\\programs\\python\\python39\\lib\\site-packages (from requests->unstructured) (3.4)\n",
      "Requirement already satisfied: urllib3<1.27,>=1.21.1 in c:\\users\\hboyz\\appdata\\local\\programs\\python\\python39\\lib\\site-packages (from requests->unstructured) (1.26.14)\n",
      "Requirement already satisfied: certifi>=2017.4.17 in c:\\users\\hboyz\\appdata\\local\\programs\\python\\python39\\lib\\site-packages (from requests->unstructured) (2022.12.7)\n",
      "Requirement already satisfied: packaging>=17.0 in c:\\users\\hboyz\\appdata\\roaming\\python\\python39\\site-packages (from marshmallow<4.0.0,>=3.18.0->dataclasses-json->unstructured) (21.3)\n",
      "Requirement already satisfied: mypy-extensions>=0.3.0 in c:\\users\\hboyz\\appdata\\local\\programs\\python\\python39\\lib\\site-packages (from typing-inspect<1,>=0.4.0->dataclasses-json->unstructured) (1.0.0)\n",
      "Requirement already satisfied: typing-extensions>=3.7.4 in c:\\users\\hboyz\\appdata\\local\\programs\\python\\python39\\lib\\site-packages (from typing-inspect<1,>=0.4.0->dataclasses-json->unstructured) (4.5.0)\n",
      "Requirement already satisfied: colorama in c:\\users\\hboyz\\appdata\\roaming\\python\\python39\\site-packages (from click->nltk->unstructured) (0.4.6)\n",
      "Requirement already satisfied: pyparsing!=3.0.5,>=2.0.2 in c:\\users\\hboyz\\appdata\\roaming\\python\\python39\\site-packages (from packaging>=17.0->marshmallow<4.0.0,>=3.18.0->dataclasses-json->unstructured) (3.0.9)\n",
      "Building wheels for collected packages: langdetect\n",
      "  Building wheel for langdetect (setup.py): started\n",
      "  Building wheel for langdetect (setup.py): finished with status 'done'\n",
      "  Created wheel for langdetect: filename=langdetect-1.0.9-py3-none-any.whl size=993273 sha256=2f146004114d7848be51c91a0fcdd257305b4d9bab35008125b82d67ddf3fe16\n",
      "  Stored in directory: c:\\users\\hboyz\\appdata\\local\\pip\\cache\\wheels\\d1\\c1\\d9\\7e068de779d863bc8f8fc9467d85e25cfe47fa5051fff1a1bb\n",
      "Successfully built langdetect\n",
      "Installing collected packages: filetype, python-magic, python-iso639, langdetect, chardet, unstructured\n",
      "Successfully installed chardet-5.2.0 filetype-1.2.0 langdetect-1.0.9 python-iso639-2023.6.15 python-magic-0.4.27 unstructured-0.10.19\n"
     ]
    },
    {
     "name": "stderr",
     "output_type": "stream",
     "text": [
      "\n",
      "[notice] A new release of pip is available: 23.1.2 -> 23.2.1\n",
      "[notice] To update, run: python.exe -m pip install --upgrade pip\n"
     ]
    }
   ],
   "source": [
    "!pip install unstructured"
   ]
  },
  {
   "cell_type": "code",
   "execution_count": 8,
   "metadata": {},
   "outputs": [
    {
     "name": "stderr",
     "output_type": "stream",
     "text": [
      "Created a chunk of size 104, which is longer than the specified 100\n",
      "Created a chunk of size 154, which is longer than the specified 100\n",
      "Created a chunk of size 202, which is longer than the specified 100\n",
      "Created a chunk of size 470, which is longer than the specified 100\n",
      "Created a chunk of size 193, which is longer than the specified 100\n",
      "Created a chunk of size 770, which is longer than the specified 100\n",
      "Created a chunk of size 162, which is longer than the specified 100\n",
      "Created a chunk of size 241, which is longer than the specified 100\n",
      "Created a chunk of size 152, which is longer than the specified 100\n",
      "Created a chunk of size 232, which is longer than the specified 100\n",
      "Created a chunk of size 141, which is longer than the specified 100\n",
      "Created a chunk of size 148, which is longer than the specified 100\n"
     ]
    },
    {
     "name": "stdout",
     "output_type": "stream",
     "text": [
      "Query:  Waht is this dataset about?\n"
     ]
    },
    {
     "ename": "NameError",
     "evalue": "name 'qa' is not defined",
     "output_type": "error",
     "traceback": [
      "\u001b[1;31m---------------------------------------------------------------------------\u001b[0m",
      "\u001b[1;31mNameError\u001b[0m                                 Traceback (most recent call last)",
      "\u001b[1;32md:\\VS_Code\\AI_Data_Analysis\\LangChain_DocumentLoader.ipynb Cell 2\u001b[0m line \u001b[0;36m3\n\u001b[0;32m     <a href='vscode-notebook-cell:/d%3A/VS_Code/AI_Data_Analysis/LangChain_DocumentLoader.ipynb#W0sZmlsZQ%3D%3D?line=28'>29</a>\u001b[0m     \u001b[39mprint\u001b[39m(\u001b[39m\"\u001b[39m\u001b[39mQuery: \u001b[39m\u001b[39m\"\u001b[39m, q)\n\u001b[0;32m     <a href='vscode-notebook-cell:/d%3A/VS_Code/AI_Data_Analysis/LangChain_DocumentLoader.ipynb#W0sZmlsZQ%3D%3D?line=29'>30</a>\u001b[0m     \u001b[39mprint\u001b[39m(\u001b[39m\"\u001b[39m\u001b[39mAnswer: \u001b[39m\u001b[39m\"\u001b[39m, qa\u001b[39m.\u001b[39mrun(q))\n\u001b[1;32m---> <a href='vscode-notebook-cell:/d%3A/VS_Code/AI_Data_Analysis/LangChain_DocumentLoader.ipynb#W0sZmlsZQ%3D%3D?line=31'>32</a>\u001b[0m query(\u001b[39m\"\u001b[39;49m\u001b[39mWaht is this dataset about?\u001b[39;49m\u001b[39m\"\u001b[39;49m)\n\u001b[0;32m     <a href='vscode-notebook-cell:/d%3A/VS_Code/AI_Data_Analysis/LangChain_DocumentLoader.ipynb#W0sZmlsZQ%3D%3D?line=32'>33</a>\u001b[0m query(\u001b[39m\"\u001b[39m\u001b[39mWhat is the monthly sales?\u001b[39m\u001b[39m\"\u001b[39m)\n",
      "\u001b[1;32md:\\VS_Code\\AI_Data_Analysis\\LangChain_DocumentLoader.ipynb Cell 2\u001b[0m line \u001b[0;36m3\n\u001b[0;32m     <a href='vscode-notebook-cell:/d%3A/VS_Code/AI_Data_Analysis/LangChain_DocumentLoader.ipynb#W0sZmlsZQ%3D%3D?line=27'>28</a>\u001b[0m \u001b[39mdef\u001b[39;00m \u001b[39mquery\u001b[39m(q):\n\u001b[0;32m     <a href='vscode-notebook-cell:/d%3A/VS_Code/AI_Data_Analysis/LangChain_DocumentLoader.ipynb#W0sZmlsZQ%3D%3D?line=28'>29</a>\u001b[0m     \u001b[39mprint\u001b[39m(\u001b[39m\"\u001b[39m\u001b[39mQuery: \u001b[39m\u001b[39m\"\u001b[39m, q)\n\u001b[1;32m---> <a href='vscode-notebook-cell:/d%3A/VS_Code/AI_Data_Analysis/LangChain_DocumentLoader.ipynb#W0sZmlsZQ%3D%3D?line=29'>30</a>\u001b[0m     \u001b[39mprint\u001b[39m(\u001b[39m\"\u001b[39m\u001b[39mAnswer: \u001b[39m\u001b[39m\"\u001b[39m, qa\u001b[39m.\u001b[39mrun(q))\n",
      "\u001b[1;31mNameError\u001b[0m: name 'qa' is not defined"
     ]
    }
   ],
   "source": [
    "from dotenv import load_dotenv\n",
    "from langchain.document_loaders import DirectoryLoader, TextLoader\n",
    "from langchain.text_splitter import CharacterTextSplitter\n",
    "from langchain.embeddings import OpenAIEmbeddings\n",
    "from langchain.vectorstores import Chroma\n",
    "\n",
    "load_dotenv()\n",
    "# text = \"Hult is an international school based in Boston. Hult has 5 different campus across the globe.\"\n",
    "# doc_embeddings = embeddings.embed_documents([text])\n",
    "\n",
    "embeddings = OpenAIEmbeddings()\n",
    "# loader = TextLoader(\"../OpenAI/01-NLP-to-SQL/sales_data_sample.csv\")\n",
    "loader = DirectoryLoader(\"./\", glob=\"**/*.txt\")\n",
    "documents = loader.load()\n",
    "\n",
    "text_splitter = CharacterTextSplitter(chunk_size =100, chunk_overlap = 0)\n",
    "texts = text_splitter.split_documents(documents)\n",
    "\n",
    "\n",
    "### Chroma\n",
    "# vecstore = Chroma.from_documents(texts, embeddings)\n",
    "# qa = RetrievalQA.from_chain_type(\n",
    "#     llm=OpenAI(),\n",
    "#     chain_type = \"studff\",\n",
    "#     retriever = vecstore.as_retriever()\n",
    "# )\n",
    "\n",
    "def query(q):\n",
    "    print(\"Query: \", q)\n",
    "    print(\"Answer: \", qa.run(q))\n",
    "    \n",
    "query(\"Waht is this dataset about?\")\n",
    "query(\"What is the monthly sales?\")"
   ]
  }
 ],
 "metadata": {
  "kernelspec": {
   "display_name": "Python 3",
   "language": "python",
   "name": "python3"
  },
  "language_info": {
   "codemirror_mode": {
    "name": "ipython",
    "version": 3
   },
   "file_extension": ".py",
   "mimetype": "text/x-python",
   "name": "python",
   "nbconvert_exporter": "python",
   "pygments_lexer": "ipython3",
   "version": "3.9.13"
  },
  "orig_nbformat": 4
 },
 "nbformat": 4,
 "nbformat_minor": 2
}
